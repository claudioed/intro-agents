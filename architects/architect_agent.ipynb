{
 "cells": [
  {
   "metadata": {
    "ExecuteTime": {
     "end_time": "2024-05-19T12:41:31.964620Z",
     "start_time": "2024-05-19T12:41:27.052436Z"
    }
   },
   "cell_type": "code",
   "source": [
    "!pip install langchain\n",
    "!pip install langchain-openai\n",
    "!pip install langchain-community\n",
    "!pip install pypdf"
   ],
   "id": "initial_id",
   "outputs": [
    {
     "name": "stdout",
     "output_type": "stream",
     "text": [
      "Requirement already satisfied: langchain in /Users/claudioed/development/ai/advanced-retrieval/.venv/lib/python3.12/site-packages (0.1.16)\r\n",
      "Requirement already satisfied: PyYAML>=5.3 in /Users/claudioed/development/ai/advanced-retrieval/.venv/lib/python3.12/site-packages (from langchain) (6.0.1)\r\n",
      "Requirement already satisfied: SQLAlchemy<3,>=1.4 in /Users/claudioed/development/ai/advanced-retrieval/.venv/lib/python3.12/site-packages (from langchain) (2.0.29)\r\n",
      "Requirement already satisfied: aiohttp<4.0.0,>=3.8.3 in /Users/claudioed/development/ai/advanced-retrieval/.venv/lib/python3.12/site-packages (from langchain) (3.9.5)\r\n",
      "Requirement already satisfied: dataclasses-json<0.7,>=0.5.7 in /Users/claudioed/development/ai/advanced-retrieval/.venv/lib/python3.12/site-packages (from langchain) (0.6.4)\r\n",
      "Requirement already satisfied: jsonpatch<2.0,>=1.33 in /Users/claudioed/development/ai/advanced-retrieval/.venv/lib/python3.12/site-packages (from langchain) (1.33)\r\n",
      "Requirement already satisfied: langchain-community<0.1,>=0.0.32 in /Users/claudioed/development/ai/advanced-retrieval/.venv/lib/python3.12/site-packages (from langchain) (0.0.34)\r\n",
      "Requirement already satisfied: langchain-core<0.2.0,>=0.1.42 in /Users/claudioed/development/ai/advanced-retrieval/.venv/lib/python3.12/site-packages (from langchain) (0.1.46)\r\n",
      "Requirement already satisfied: langchain-text-splitters<0.1,>=0.0.1 in /Users/claudioed/development/ai/advanced-retrieval/.venv/lib/python3.12/site-packages (from langchain) (0.0.1)\r\n",
      "Requirement already satisfied: langsmith<0.2.0,>=0.1.17 in /Users/claudioed/development/ai/advanced-retrieval/.venv/lib/python3.12/site-packages (from langchain) (0.1.51)\r\n",
      "Requirement already satisfied: numpy<2,>=1 in /Users/claudioed/development/ai/advanced-retrieval/.venv/lib/python3.12/site-packages (from langchain) (1.26.4)\r\n",
      "Requirement already satisfied: pydantic<3,>=1 in /Users/claudioed/development/ai/advanced-retrieval/.venv/lib/python3.12/site-packages (from langchain) (2.7.1)\r\n",
      "Requirement already satisfied: requests<3,>=2 in /Users/claudioed/development/ai/advanced-retrieval/.venv/lib/python3.12/site-packages (from langchain) (2.31.0)\r\n",
      "Requirement already satisfied: tenacity<9.0.0,>=8.1.0 in /Users/claudioed/development/ai/advanced-retrieval/.venv/lib/python3.12/site-packages (from langchain) (8.2.3)\r\n",
      "Requirement already satisfied: aiosignal>=1.1.2 in /Users/claudioed/development/ai/advanced-retrieval/.venv/lib/python3.12/site-packages (from aiohttp<4.0.0,>=3.8.3->langchain) (1.3.1)\r\n",
      "Requirement already satisfied: attrs>=17.3.0 in /Users/claudioed/development/ai/advanced-retrieval/.venv/lib/python3.12/site-packages (from aiohttp<4.0.0,>=3.8.3->langchain) (23.2.0)\r\n",
      "Requirement already satisfied: frozenlist>=1.1.1 in /Users/claudioed/development/ai/advanced-retrieval/.venv/lib/python3.12/site-packages (from aiohttp<4.0.0,>=3.8.3->langchain) (1.4.1)\r\n",
      "Requirement already satisfied: multidict<7.0,>=4.5 in /Users/claudioed/development/ai/advanced-retrieval/.venv/lib/python3.12/site-packages (from aiohttp<4.0.0,>=3.8.3->langchain) (6.0.5)\r\n",
      "Requirement already satisfied: yarl<2.0,>=1.0 in /Users/claudioed/development/ai/advanced-retrieval/.venv/lib/python3.12/site-packages (from aiohttp<4.0.0,>=3.8.3->langchain) (1.9.4)\r\n",
      "Requirement already satisfied: marshmallow<4.0.0,>=3.18.0 in /Users/claudioed/development/ai/advanced-retrieval/.venv/lib/python3.12/site-packages (from dataclasses-json<0.7,>=0.5.7->langchain) (3.21.1)\r\n",
      "Requirement already satisfied: typing-inspect<1,>=0.4.0 in /Users/claudioed/development/ai/advanced-retrieval/.venv/lib/python3.12/site-packages (from dataclasses-json<0.7,>=0.5.7->langchain) (0.9.0)\r\n",
      "Requirement already satisfied: jsonpointer>=1.9 in /Users/claudioed/development/ai/advanced-retrieval/.venv/lib/python3.12/site-packages (from jsonpatch<2.0,>=1.33->langchain) (2.4)\r\n",
      "Requirement already satisfied: packaging<24.0,>=23.2 in /Users/claudioed/development/ai/advanced-retrieval/.venv/lib/python3.12/site-packages (from langchain-core<0.2.0,>=0.1.42->langchain) (23.2)\r\n",
      "Requirement already satisfied: orjson<4.0.0,>=3.9.14 in /Users/claudioed/development/ai/advanced-retrieval/.venv/lib/python3.12/site-packages (from langsmith<0.2.0,>=0.1.17->langchain) (3.10.1)\r\n",
      "Requirement already satisfied: annotated-types>=0.4.0 in /Users/claudioed/development/ai/advanced-retrieval/.venv/lib/python3.12/site-packages (from pydantic<3,>=1->langchain) (0.6.0)\r\n",
      "Requirement already satisfied: pydantic-core==2.18.2 in /Users/claudioed/development/ai/advanced-retrieval/.venv/lib/python3.12/site-packages (from pydantic<3,>=1->langchain) (2.18.2)\r\n",
      "Requirement already satisfied: typing-extensions>=4.6.1 in /Users/claudioed/development/ai/advanced-retrieval/.venv/lib/python3.12/site-packages (from pydantic<3,>=1->langchain) (4.11.0)\r\n",
      "Requirement already satisfied: charset-normalizer<4,>=2 in /Users/claudioed/development/ai/advanced-retrieval/.venv/lib/python3.12/site-packages (from requests<3,>=2->langchain) (3.3.2)\r\n",
      "Requirement already satisfied: idna<4,>=2.5 in /Users/claudioed/development/ai/advanced-retrieval/.venv/lib/python3.12/site-packages (from requests<3,>=2->langchain) (3.7)\r\n",
      "Requirement already satisfied: urllib3<3,>=1.21.1 in /Users/claudioed/development/ai/advanced-retrieval/.venv/lib/python3.12/site-packages (from requests<3,>=2->langchain) (2.2.1)\r\n",
      "Requirement already satisfied: certifi>=2017.4.17 in /Users/claudioed/development/ai/advanced-retrieval/.venv/lib/python3.12/site-packages (from requests<3,>=2->langchain) (2024.2.2)\r\n",
      "Requirement already satisfied: mypy-extensions>=0.3.0 in /Users/claudioed/development/ai/advanced-retrieval/.venv/lib/python3.12/site-packages (from typing-inspect<1,>=0.4.0->dataclasses-json<0.7,>=0.5.7->langchain) (1.0.0)\r\n",
      "Requirement already satisfied: langchain-openai in /Users/claudioed/development/ai/advanced-retrieval/.venv/lib/python3.12/site-packages (0.1.4)\r\n",
      "Requirement already satisfied: langchain-core<0.2.0,>=0.1.46 in /Users/claudioed/development/ai/advanced-retrieval/.venv/lib/python3.12/site-packages (from langchain-openai) (0.1.46)\r\n",
      "Requirement already satisfied: openai<2.0.0,>=1.10.0 in /Users/claudioed/development/ai/advanced-retrieval/.venv/lib/python3.12/site-packages (from langchain-openai) (1.23.6)\r\n",
      "Requirement already satisfied: tiktoken<1,>=0.5.2 in /Users/claudioed/development/ai/advanced-retrieval/.venv/lib/python3.12/site-packages (from langchain-openai) (0.6.0)\r\n",
      "Requirement already satisfied: PyYAML>=5.3 in /Users/claudioed/development/ai/advanced-retrieval/.venv/lib/python3.12/site-packages (from langchain-core<0.2.0,>=0.1.46->langchain-openai) (6.0.1)\r\n",
      "Requirement already satisfied: jsonpatch<2.0,>=1.33 in /Users/claudioed/development/ai/advanced-retrieval/.venv/lib/python3.12/site-packages (from langchain-core<0.2.0,>=0.1.46->langchain-openai) (1.33)\r\n",
      "Requirement already satisfied: langsmith<0.2.0,>=0.1.0 in /Users/claudioed/development/ai/advanced-retrieval/.venv/lib/python3.12/site-packages (from langchain-core<0.2.0,>=0.1.46->langchain-openai) (0.1.51)\r\n",
      "Requirement already satisfied: packaging<24.0,>=23.2 in /Users/claudioed/development/ai/advanced-retrieval/.venv/lib/python3.12/site-packages (from langchain-core<0.2.0,>=0.1.46->langchain-openai) (23.2)\r\n",
      "Requirement already satisfied: pydantic<3,>=1 in /Users/claudioed/development/ai/advanced-retrieval/.venv/lib/python3.12/site-packages (from langchain-core<0.2.0,>=0.1.46->langchain-openai) (2.7.1)\r\n",
      "Requirement already satisfied: tenacity<9.0.0,>=8.1.0 in /Users/claudioed/development/ai/advanced-retrieval/.venv/lib/python3.12/site-packages (from langchain-core<0.2.0,>=0.1.46->langchain-openai) (8.2.3)\r\n",
      "Requirement already satisfied: anyio<5,>=3.5.0 in /Users/claudioed/development/ai/advanced-retrieval/.venv/lib/python3.12/site-packages (from openai<2.0.0,>=1.10.0->langchain-openai) (4.3.0)\r\n",
      "Requirement already satisfied: distro<2,>=1.7.0 in /Users/claudioed/development/ai/advanced-retrieval/.venv/lib/python3.12/site-packages (from openai<2.0.0,>=1.10.0->langchain-openai) (1.9.0)\r\n",
      "Requirement already satisfied: httpx<1,>=0.23.0 in /Users/claudioed/development/ai/advanced-retrieval/.venv/lib/python3.12/site-packages (from openai<2.0.0,>=1.10.0->langchain-openai) (0.27.0)\r\n",
      "Requirement already satisfied: sniffio in /Users/claudioed/development/ai/advanced-retrieval/.venv/lib/python3.12/site-packages (from openai<2.0.0,>=1.10.0->langchain-openai) (1.3.1)\r\n",
      "Requirement already satisfied: tqdm>4 in /Users/claudioed/development/ai/advanced-retrieval/.venv/lib/python3.12/site-packages (from openai<2.0.0,>=1.10.0->langchain-openai) (4.66.2)\r\n",
      "Requirement already satisfied: typing-extensions<5,>=4.7 in /Users/claudioed/development/ai/advanced-retrieval/.venv/lib/python3.12/site-packages (from openai<2.0.0,>=1.10.0->langchain-openai) (4.11.0)\r\n",
      "Requirement already satisfied: regex>=2022.1.18 in /Users/claudioed/development/ai/advanced-retrieval/.venv/lib/python3.12/site-packages (from tiktoken<1,>=0.5.2->langchain-openai) (2024.4.16)\r\n",
      "Requirement already satisfied: requests>=2.26.0 in /Users/claudioed/development/ai/advanced-retrieval/.venv/lib/python3.12/site-packages (from tiktoken<1,>=0.5.2->langchain-openai) (2.31.0)\r\n",
      "Requirement already satisfied: idna>=2.8 in /Users/claudioed/development/ai/advanced-retrieval/.venv/lib/python3.12/site-packages (from anyio<5,>=3.5.0->openai<2.0.0,>=1.10.0->langchain-openai) (3.7)\r\n",
      "Requirement already satisfied: certifi in /Users/claudioed/development/ai/advanced-retrieval/.venv/lib/python3.12/site-packages (from httpx<1,>=0.23.0->openai<2.0.0,>=1.10.0->langchain-openai) (2024.2.2)\r\n",
      "Requirement already satisfied: httpcore==1.* in /Users/claudioed/development/ai/advanced-retrieval/.venv/lib/python3.12/site-packages (from httpx<1,>=0.23.0->openai<2.0.0,>=1.10.0->langchain-openai) (1.0.5)\r\n",
      "Requirement already satisfied: h11<0.15,>=0.13 in /Users/claudioed/development/ai/advanced-retrieval/.venv/lib/python3.12/site-packages (from httpcore==1.*->httpx<1,>=0.23.0->openai<2.0.0,>=1.10.0->langchain-openai) (0.14.0)\r\n",
      "Requirement already satisfied: jsonpointer>=1.9 in /Users/claudioed/development/ai/advanced-retrieval/.venv/lib/python3.12/site-packages (from jsonpatch<2.0,>=1.33->langchain-core<0.2.0,>=0.1.46->langchain-openai) (2.4)\r\n",
      "Requirement already satisfied: orjson<4.0.0,>=3.9.14 in /Users/claudioed/development/ai/advanced-retrieval/.venv/lib/python3.12/site-packages (from langsmith<0.2.0,>=0.1.0->langchain-core<0.2.0,>=0.1.46->langchain-openai) (3.10.1)\r\n",
      "Requirement already satisfied: annotated-types>=0.4.0 in /Users/claudioed/development/ai/advanced-retrieval/.venv/lib/python3.12/site-packages (from pydantic<3,>=1->langchain-core<0.2.0,>=0.1.46->langchain-openai) (0.6.0)\r\n",
      "Requirement already satisfied: pydantic-core==2.18.2 in /Users/claudioed/development/ai/advanced-retrieval/.venv/lib/python3.12/site-packages (from pydantic<3,>=1->langchain-core<0.2.0,>=0.1.46->langchain-openai) (2.18.2)\r\n",
      "Requirement already satisfied: charset-normalizer<4,>=2 in /Users/claudioed/development/ai/advanced-retrieval/.venv/lib/python3.12/site-packages (from requests>=2.26.0->tiktoken<1,>=0.5.2->langchain-openai) (3.3.2)\r\n",
      "Requirement already satisfied: urllib3<3,>=1.21.1 in /Users/claudioed/development/ai/advanced-retrieval/.venv/lib/python3.12/site-packages (from requests>=2.26.0->tiktoken<1,>=0.5.2->langchain-openai) (2.2.1)\r\n",
      "Requirement already satisfied: langchain-community in /Users/claudioed/development/ai/advanced-retrieval/.venv/lib/python3.12/site-packages (0.0.34)\r\n",
      "Requirement already satisfied: PyYAML>=5.3 in /Users/claudioed/development/ai/advanced-retrieval/.venv/lib/python3.12/site-packages (from langchain-community) (6.0.1)\r\n",
      "Requirement already satisfied: SQLAlchemy<3,>=1.4 in /Users/claudioed/development/ai/advanced-retrieval/.venv/lib/python3.12/site-packages (from langchain-community) (2.0.29)\r\n",
      "Requirement already satisfied: aiohttp<4.0.0,>=3.8.3 in /Users/claudioed/development/ai/advanced-retrieval/.venv/lib/python3.12/site-packages (from langchain-community) (3.9.5)\r\n",
      "Requirement already satisfied: dataclasses-json<0.7,>=0.5.7 in /Users/claudioed/development/ai/advanced-retrieval/.venv/lib/python3.12/site-packages (from langchain-community) (0.6.4)\r\n",
      "Requirement already satisfied: langchain-core<0.2.0,>=0.1.45 in /Users/claudioed/development/ai/advanced-retrieval/.venv/lib/python3.12/site-packages (from langchain-community) (0.1.46)\r\n",
      "Requirement already satisfied: langsmith<0.2.0,>=0.1.0 in /Users/claudioed/development/ai/advanced-retrieval/.venv/lib/python3.12/site-packages (from langchain-community) (0.1.51)\r\n",
      "Requirement already satisfied: numpy<2,>=1 in /Users/claudioed/development/ai/advanced-retrieval/.venv/lib/python3.12/site-packages (from langchain-community) (1.26.4)\r\n",
      "Requirement already satisfied: requests<3,>=2 in /Users/claudioed/development/ai/advanced-retrieval/.venv/lib/python3.12/site-packages (from langchain-community) (2.31.0)\r\n",
      "Requirement already satisfied: tenacity<9.0.0,>=8.1.0 in /Users/claudioed/development/ai/advanced-retrieval/.venv/lib/python3.12/site-packages (from langchain-community) (8.2.3)\r\n",
      "Requirement already satisfied: aiosignal>=1.1.2 in /Users/claudioed/development/ai/advanced-retrieval/.venv/lib/python3.12/site-packages (from aiohttp<4.0.0,>=3.8.3->langchain-community) (1.3.1)\r\n",
      "Requirement already satisfied: attrs>=17.3.0 in /Users/claudioed/development/ai/advanced-retrieval/.venv/lib/python3.12/site-packages (from aiohttp<4.0.0,>=3.8.3->langchain-community) (23.2.0)\r\n",
      "Requirement already satisfied: frozenlist>=1.1.1 in /Users/claudioed/development/ai/advanced-retrieval/.venv/lib/python3.12/site-packages (from aiohttp<4.0.0,>=3.8.3->langchain-community) (1.4.1)\r\n",
      "Requirement already satisfied: multidict<7.0,>=4.5 in /Users/claudioed/development/ai/advanced-retrieval/.venv/lib/python3.12/site-packages (from aiohttp<4.0.0,>=3.8.3->langchain-community) (6.0.5)\r\n",
      "Requirement already satisfied: yarl<2.0,>=1.0 in /Users/claudioed/development/ai/advanced-retrieval/.venv/lib/python3.12/site-packages (from aiohttp<4.0.0,>=3.8.3->langchain-community) (1.9.4)\r\n",
      "Requirement already satisfied: marshmallow<4.0.0,>=3.18.0 in /Users/claudioed/development/ai/advanced-retrieval/.venv/lib/python3.12/site-packages (from dataclasses-json<0.7,>=0.5.7->langchain-community) (3.21.1)\r\n",
      "Requirement already satisfied: typing-inspect<1,>=0.4.0 in /Users/claudioed/development/ai/advanced-retrieval/.venv/lib/python3.12/site-packages (from dataclasses-json<0.7,>=0.5.7->langchain-community) (0.9.0)\r\n",
      "Requirement already satisfied: jsonpatch<2.0,>=1.33 in /Users/claudioed/development/ai/advanced-retrieval/.venv/lib/python3.12/site-packages (from langchain-core<0.2.0,>=0.1.45->langchain-community) (1.33)\r\n",
      "Requirement already satisfied: packaging<24.0,>=23.2 in /Users/claudioed/development/ai/advanced-retrieval/.venv/lib/python3.12/site-packages (from langchain-core<0.2.0,>=0.1.45->langchain-community) (23.2)\r\n",
      "Requirement already satisfied: pydantic<3,>=1 in /Users/claudioed/development/ai/advanced-retrieval/.venv/lib/python3.12/site-packages (from langchain-core<0.2.0,>=0.1.45->langchain-community) (2.7.1)\r\n",
      "Requirement already satisfied: orjson<4.0.0,>=3.9.14 in /Users/claudioed/development/ai/advanced-retrieval/.venv/lib/python3.12/site-packages (from langsmith<0.2.0,>=0.1.0->langchain-community) (3.10.1)\r\n",
      "Requirement already satisfied: charset-normalizer<4,>=2 in /Users/claudioed/development/ai/advanced-retrieval/.venv/lib/python3.12/site-packages (from requests<3,>=2->langchain-community) (3.3.2)\r\n",
      "Requirement already satisfied: idna<4,>=2.5 in /Users/claudioed/development/ai/advanced-retrieval/.venv/lib/python3.12/site-packages (from requests<3,>=2->langchain-community) (3.7)\r\n",
      "Requirement already satisfied: urllib3<3,>=1.21.1 in /Users/claudioed/development/ai/advanced-retrieval/.venv/lib/python3.12/site-packages (from requests<3,>=2->langchain-community) (2.2.1)\r\n",
      "Requirement already satisfied: certifi>=2017.4.17 in /Users/claudioed/development/ai/advanced-retrieval/.venv/lib/python3.12/site-packages (from requests<3,>=2->langchain-community) (2024.2.2)\r\n",
      "Requirement already satisfied: typing-extensions>=4.6.0 in /Users/claudioed/development/ai/advanced-retrieval/.venv/lib/python3.12/site-packages (from SQLAlchemy<3,>=1.4->langchain-community) (4.11.0)\r\n",
      "Requirement already satisfied: jsonpointer>=1.9 in /Users/claudioed/development/ai/advanced-retrieval/.venv/lib/python3.12/site-packages (from jsonpatch<2.0,>=1.33->langchain-core<0.2.0,>=0.1.45->langchain-community) (2.4)\r\n",
      "Requirement already satisfied: annotated-types>=0.4.0 in /Users/claudioed/development/ai/advanced-retrieval/.venv/lib/python3.12/site-packages (from pydantic<3,>=1->langchain-core<0.2.0,>=0.1.45->langchain-community) (0.6.0)\r\n",
      "Requirement already satisfied: pydantic-core==2.18.2 in /Users/claudioed/development/ai/advanced-retrieval/.venv/lib/python3.12/site-packages (from pydantic<3,>=1->langchain-core<0.2.0,>=0.1.45->langchain-community) (2.18.2)\r\n",
      "Requirement already satisfied: mypy-extensions>=0.3.0 in /Users/claudioed/development/ai/advanced-retrieval/.venv/lib/python3.12/site-packages (from typing-inspect<1,>=0.4.0->dataclasses-json<0.7,>=0.5.7->langchain-community) (1.0.0)\r\n",
      "Collecting pypdf\r\n",
      "  Downloading pypdf-4.2.0-py3-none-any.whl.metadata (7.4 kB)\r\n",
      "Downloading pypdf-4.2.0-py3-none-any.whl (290 kB)\r\n",
      "\u001B[2K   \u001B[90m━━━━━━━━━━━━━━━━━━━━━━━━━━━━━━━━━━━━━━━━\u001B[0m \u001B[32m290.4/290.4 kB\u001B[0m \u001B[31m4.3 MB/s\u001B[0m eta \u001B[36m0:00:00\u001B[0ma \u001B[36m0:00:01\u001B[0m\r\n",
      "\u001B[?25hInstalling collected packages: pypdf\r\n",
      "Successfully installed pypdf-4.2.0\r\n"
     ]
    }
   ],
   "execution_count": 5
  },
  {
   "metadata": {},
   "cell_type": "markdown",
   "source": "## Let's create our knowledge base",
   "id": "ee58b7c108e3b7e7"
  },
  {
   "metadata": {
    "ExecuteTime": {
     "end_time": "2024-05-19T13:00:39.330458Z",
     "start_time": "2024-05-19T13:00:37.656Z"
    }
   },
   "cell_type": "code",
   "source": [
    "import os\n",
    "\n",
    "from langchain.chat_models import ChatOpenAI\n",
    "from langchain.embeddings import OpenAIEmbeddings\n",
    "from langchain_community.document_loaders import PyPDFLoader\n",
    "from langchain.vectorstores import Chroma\n",
    "\n",
    "llm = ChatOpenAI()\n",
    "embeddings = OpenAIEmbeddings()\n",
    "\n",
    "def list_pdf_files(directory):\n",
    "    # List all files in the directory\n",
    "    files = os.listdir(directory)\n",
    "    \n",
    "    # Filter out PDF files\n",
    "    pdf_files = [os.path.join(directory, file) for file in files if file.endswith('.pdf')]\n",
    "    \n",
    "    return pdf_files\n",
    "\n",
    "def generate_embeddings_from_pdf(pdf_path):\n",
    "    # Load the PDF\n",
    "    loader = PyPDFLoader(pdf_path)\n",
    "    documents = loader.load_and_split()\n",
    "\n",
    "    # Extract text content\n",
    "    texts = [doc.page_content for doc in documents]\n",
    "\n",
    "    # Generate embeddings\n",
    "    embeddings_list = embeddings.embed_text(texts)\n",
    "    \n",
    "    return texts, embeddings_list\n",
    "\n",
    "def store_embeddings_in_chroma(chroma_store,texts, embeddings):\n",
    "    \n",
    "    # Add documents to Chroma store\n",
    "    for i, (text, embedding) in enumerate(zip(texts, embeddings)):\n",
    "        chroma_store.add(texts=[text], embeddings=[embedding], ids=[f\"doc_{i}\"])\n",
    "\n",
    "    return chroma_store\n",
    "\n",
    "chroma_store = Chroma()\n",
    "directory = 'data'\n",
    "pdf_paths = list_pdf_files(directory)\n",
    "\n",
    "print(pdf_paths)\n",
    "\n",
    "for file in pdf_paths:\n",
    "    print(f\"Processing {file}\")\n",
    "    texts, embeddings = generate_embeddings_from_pdf(file)\n",
    "    chroma_store = store_embeddings_in_chroma(chroma_store,texts, embeddings)\n",
    "    print(f\"{file} processed\")    \n",
    "\n"
   ],
   "id": "df26f0e585ca3d4",
   "outputs": [
    {
     "name": "stdout",
     "output_type": "stream",
     "text": [
      "['data/How_GPT_Works_v1.pdf', 'data/Kafka_Streams_in_Action.pdf', 'data/OpenID_Connect_in_Action_v11.pdf', 'data/Designing_Microservices_v5.pdf', 'data/Microservice_APIs_v14.pdf', 'data/gRPC_Microservices_in_Go_v8.pdf', 'data/Prompt_Engineering_in_Practice_v1.pdf', 'data/Build_Financial_Software_with_Generative_v1.pdf', 'data/The_Tao_of_Microservices_Second_Edition_v4.pdf', 'data/Software_Mistakes_and_Tradeoffs.pdf', 'data/Kubernetes_for_Developers_v11.pdf', 'data/Go_by_Example_v7.pdf', 'data/Securing_Cloud_Applications_v4.pdf', 'data/Code_Like_a_Pro_in_Rust_v9.pdf', 'data/Generative_AI_for_the_IT_Pro_v4.pdf', 'data/Algorithms_and_Data_Structures_for_Massi.pdf', 'data/Data_Mesh_in_Action.pdf', 'data/Architecture_Modernization_v9.pdf', 'data/Modern_Java_in_Action.pdf', 'data/Acing_the_System_Design_Interview_v11.pdf', 'data/Learn_Concurrent_Programming_with_Go.pdf', 'data/Quarkus_in_Action_v9.pdf', 'data/Shipping_Go_v6.pdf', 'data/Architecture_Modernization (1).pdf', 'data/Automate_Everyday_Tasks_with_ChatGPT_Plu_v3.pdf', 'data/Effective_Go_v6.pdf', 'data/Build_a_Large_Language_Model_(From_Scrat_v6.pdf', 'data/Rust_Design_Patterns_v5.pdf', 'data/Rust_Design_Patterns_v4.pdf', 'data/The_Well-Grounded_Java_Developer_Second.pdf', 'data/Learn_Rust_in_a_Month_of_Lunches_v7.pdf', 'data/Streaming_Data_Pipelines_with_Kafka_v6.pdf', 'data/Go_in_Action_Second_Edition_v4 2.pdf', 'data/Bootstrapping_Microservices_Second_Edit_v11.pdf', 'data/Automating_API_Delivery_v9.pdf', 'data/API_Security_in_Action.pdf', 'data/Go_in_Action.pdf', 'data/AI-Assisted_Testing_v3.pdf', 'data/Python_How-To.pdf', 'data/Microservices_Security_in_Action.pdf', 'data/100_Go_Mistakes_and_How_to_Avoid_Them.pdf', 'data/AI-Assisted_Testing_v1.pdf', 'data/Collaborative_Software_Design_v9 (1).pdf', 'data/Kafka_Streams_in_Action_Second_Edition_v13.pdf', 'data/Platform_Engineering_on_Kubernetes_v10.pdf']\n",
      "Processing data/How_GPT_Works_v1.pdf\n"
     ]
    },
    {
     "ename": "AttributeError",
     "evalue": "'OpenAIEmbeddings' object has no attribute 'embed_text'",
     "output_type": "error",
     "traceback": [
      "\u001B[0;31m---------------------------------------------------------------------------\u001B[0m",
      "\u001B[0;31mAttributeError\u001B[0m                            Traceback (most recent call last)",
      "Cell \u001B[0;32mIn[11], line 50\u001B[0m\n\u001B[1;32m     48\u001B[0m \u001B[38;5;28;01mfor\u001B[39;00m file \u001B[38;5;129;01min\u001B[39;00m pdf_paths:\n\u001B[1;32m     49\u001B[0m     \u001B[38;5;28mprint\u001B[39m(\u001B[38;5;124mf\u001B[39m\u001B[38;5;124m\"\u001B[39m\u001B[38;5;124mProcessing \u001B[39m\u001B[38;5;132;01m{\u001B[39;00mfile\u001B[38;5;132;01m}\u001B[39;00m\u001B[38;5;124m\"\u001B[39m)\n\u001B[0;32m---> 50\u001B[0m     texts, embeddings \u001B[38;5;241m=\u001B[39m \u001B[43mgenerate_embeddings_from_pdf\u001B[49m\u001B[43m(\u001B[49m\u001B[43mfile\u001B[49m\u001B[43m)\u001B[49m\n\u001B[1;32m     51\u001B[0m     chroma_store \u001B[38;5;241m=\u001B[39m store_embeddings_in_chroma(chroma_store,texts, embeddings)\n\u001B[1;32m     52\u001B[0m     \u001B[38;5;28mprint\u001B[39m(\u001B[38;5;124mf\u001B[39m\u001B[38;5;124m\"\u001B[39m\u001B[38;5;132;01m{\u001B[39;00mfile\u001B[38;5;132;01m}\u001B[39;00m\u001B[38;5;124m processed\u001B[39m\u001B[38;5;124m\"\u001B[39m)    \n",
      "Cell \u001B[0;32mIn[11], line 30\u001B[0m, in \u001B[0;36mgenerate_embeddings_from_pdf\u001B[0;34m(pdf_path)\u001B[0m\n\u001B[1;32m     27\u001B[0m texts \u001B[38;5;241m=\u001B[39m [doc\u001B[38;5;241m.\u001B[39mpage_content \u001B[38;5;28;01mfor\u001B[39;00m doc \u001B[38;5;129;01min\u001B[39;00m documents]\n\u001B[1;32m     29\u001B[0m \u001B[38;5;66;03m# Generate embeddings\u001B[39;00m\n\u001B[0;32m---> 30\u001B[0m embeddings_list \u001B[38;5;241m=\u001B[39m \u001B[43membeddings\u001B[49m\u001B[38;5;241;43m.\u001B[39;49m\u001B[43membed_text\u001B[49m(texts)\n\u001B[1;32m     32\u001B[0m \u001B[38;5;28;01mreturn\u001B[39;00m texts, embeddings_list\n",
      "\u001B[0;31mAttributeError\u001B[0m: 'OpenAIEmbeddings' object has no attribute 'embed_text'"
     ]
    }
   ],
   "execution_count": 11
  },
  {
   "metadata": {},
   "cell_type": "code",
   "outputs": [],
   "execution_count": null,
   "source": "",
   "id": "e77bd5e52da4976d"
  }
 ],
 "metadata": {
  "kernelspec": {
   "display_name": "Python 3",
   "language": "python",
   "name": "python3"
  },
  "language_info": {
   "codemirror_mode": {
    "name": "ipython",
    "version": 2
   },
   "file_extension": ".py",
   "mimetype": "text/x-python",
   "name": "python",
   "nbconvert_exporter": "python",
   "pygments_lexer": "ipython2",
   "version": "2.7.6"
  }
 },
 "nbformat": 4,
 "nbformat_minor": 5
}
