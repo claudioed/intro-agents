{
 "cells": [
  {
   "cell_type": "code",
   "id": "initial_id",
   "metadata": {
    "collapsed": true,
    "ExecuteTime": {
     "end_time": "2024-05-18T12:49:11.697951Z",
     "start_time": "2024-05-18T12:49:04.541086Z"
    }
   },
   "source": [
    "import faiss\n",
    "import math\n",
    "!pip install termcolor > /dev/null\n",
    "!pip install langchain\n",
    "!pip install openai\n",
    "!pip install langchain_experimental\n",
    "!pip install tiktoken\n",
    "!pip install faiss-cpu"
   ],
   "outputs": [
    {
     "name": "stdout",
     "output_type": "stream",
     "text": [
      "Requirement already satisfied: langchain in /Users/claudioed/development/ai/advanced-retrieval/.venv/lib/python3.12/site-packages (0.1.16)\r\n",
      "Requirement already satisfied: PyYAML>=5.3 in /Users/claudioed/development/ai/advanced-retrieval/.venv/lib/python3.12/site-packages (from langchain) (6.0.1)\r\n",
      "Requirement already satisfied: SQLAlchemy<3,>=1.4 in /Users/claudioed/development/ai/advanced-retrieval/.venv/lib/python3.12/site-packages (from langchain) (2.0.29)\r\n",
      "Requirement already satisfied: aiohttp<4.0.0,>=3.8.3 in /Users/claudioed/development/ai/advanced-retrieval/.venv/lib/python3.12/site-packages (from langchain) (3.9.5)\r\n",
      "Requirement already satisfied: dataclasses-json<0.7,>=0.5.7 in /Users/claudioed/development/ai/advanced-retrieval/.venv/lib/python3.12/site-packages (from langchain) (0.6.4)\r\n",
      "Requirement already satisfied: jsonpatch<2.0,>=1.33 in /Users/claudioed/development/ai/advanced-retrieval/.venv/lib/python3.12/site-packages (from langchain) (1.33)\r\n",
      "Requirement already satisfied: langchain-community<0.1,>=0.0.32 in /Users/claudioed/development/ai/advanced-retrieval/.venv/lib/python3.12/site-packages (from langchain) (0.0.34)\r\n",
      "Requirement already satisfied: langchain-core<0.2.0,>=0.1.42 in /Users/claudioed/development/ai/advanced-retrieval/.venv/lib/python3.12/site-packages (from langchain) (0.1.46)\r\n",
      "Requirement already satisfied: langchain-text-splitters<0.1,>=0.0.1 in /Users/claudioed/development/ai/advanced-retrieval/.venv/lib/python3.12/site-packages (from langchain) (0.0.1)\r\n",
      "Requirement already satisfied: langsmith<0.2.0,>=0.1.17 in /Users/claudioed/development/ai/advanced-retrieval/.venv/lib/python3.12/site-packages (from langchain) (0.1.51)\r\n",
      "Requirement already satisfied: numpy<2,>=1 in /Users/claudioed/development/ai/advanced-retrieval/.venv/lib/python3.12/site-packages (from langchain) (1.26.4)\r\n",
      "Requirement already satisfied: pydantic<3,>=1 in /Users/claudioed/development/ai/advanced-retrieval/.venv/lib/python3.12/site-packages (from langchain) (2.7.1)\r\n",
      "Requirement already satisfied: requests<3,>=2 in /Users/claudioed/development/ai/advanced-retrieval/.venv/lib/python3.12/site-packages (from langchain) (2.31.0)\r\n",
      "Requirement already satisfied: tenacity<9.0.0,>=8.1.0 in /Users/claudioed/development/ai/advanced-retrieval/.venv/lib/python3.12/site-packages (from langchain) (8.2.3)\r\n",
      "Requirement already satisfied: aiosignal>=1.1.2 in /Users/claudioed/development/ai/advanced-retrieval/.venv/lib/python3.12/site-packages (from aiohttp<4.0.0,>=3.8.3->langchain) (1.3.1)\r\n",
      "Requirement already satisfied: attrs>=17.3.0 in /Users/claudioed/development/ai/advanced-retrieval/.venv/lib/python3.12/site-packages (from aiohttp<4.0.0,>=3.8.3->langchain) (23.2.0)\r\n",
      "Requirement already satisfied: frozenlist>=1.1.1 in /Users/claudioed/development/ai/advanced-retrieval/.venv/lib/python3.12/site-packages (from aiohttp<4.0.0,>=3.8.3->langchain) (1.4.1)\r\n",
      "Requirement already satisfied: multidict<7.0,>=4.5 in /Users/claudioed/development/ai/advanced-retrieval/.venv/lib/python3.12/site-packages (from aiohttp<4.0.0,>=3.8.3->langchain) (6.0.5)\r\n",
      "Requirement already satisfied: yarl<2.0,>=1.0 in /Users/claudioed/development/ai/advanced-retrieval/.venv/lib/python3.12/site-packages (from aiohttp<4.0.0,>=3.8.3->langchain) (1.9.4)\r\n",
      "Requirement already satisfied: marshmallow<4.0.0,>=3.18.0 in /Users/claudioed/development/ai/advanced-retrieval/.venv/lib/python3.12/site-packages (from dataclasses-json<0.7,>=0.5.7->langchain) (3.21.1)\r\n",
      "Requirement already satisfied: typing-inspect<1,>=0.4.0 in /Users/claudioed/development/ai/advanced-retrieval/.venv/lib/python3.12/site-packages (from dataclasses-json<0.7,>=0.5.7->langchain) (0.9.0)\r\n",
      "Requirement already satisfied: jsonpointer>=1.9 in /Users/claudioed/development/ai/advanced-retrieval/.venv/lib/python3.12/site-packages (from jsonpatch<2.0,>=1.33->langchain) (2.4)\r\n",
      "Requirement already satisfied: packaging<24.0,>=23.2 in /Users/claudioed/development/ai/advanced-retrieval/.venv/lib/python3.12/site-packages (from langchain-core<0.2.0,>=0.1.42->langchain) (23.2)\r\n",
      "Requirement already satisfied: orjson<4.0.0,>=3.9.14 in /Users/claudioed/development/ai/advanced-retrieval/.venv/lib/python3.12/site-packages (from langsmith<0.2.0,>=0.1.17->langchain) (3.10.1)\r\n",
      "Requirement already satisfied: annotated-types>=0.4.0 in /Users/claudioed/development/ai/advanced-retrieval/.venv/lib/python3.12/site-packages (from pydantic<3,>=1->langchain) (0.6.0)\r\n",
      "Requirement already satisfied: pydantic-core==2.18.2 in /Users/claudioed/development/ai/advanced-retrieval/.venv/lib/python3.12/site-packages (from pydantic<3,>=1->langchain) (2.18.2)\r\n",
      "Requirement already satisfied: typing-extensions>=4.6.1 in /Users/claudioed/development/ai/advanced-retrieval/.venv/lib/python3.12/site-packages (from pydantic<3,>=1->langchain) (4.11.0)\r\n",
      "Requirement already satisfied: charset-normalizer<4,>=2 in /Users/claudioed/development/ai/advanced-retrieval/.venv/lib/python3.12/site-packages (from requests<3,>=2->langchain) (3.3.2)\r\n",
      "Requirement already satisfied: idna<4,>=2.5 in /Users/claudioed/development/ai/advanced-retrieval/.venv/lib/python3.12/site-packages (from requests<3,>=2->langchain) (3.7)\r\n",
      "Requirement already satisfied: urllib3<3,>=1.21.1 in /Users/claudioed/development/ai/advanced-retrieval/.venv/lib/python3.12/site-packages (from requests<3,>=2->langchain) (2.2.1)\r\n",
      "Requirement already satisfied: certifi>=2017.4.17 in /Users/claudioed/development/ai/advanced-retrieval/.venv/lib/python3.12/site-packages (from requests<3,>=2->langchain) (2024.2.2)\r\n",
      "Requirement already satisfied: mypy-extensions>=0.3.0 in /Users/claudioed/development/ai/advanced-retrieval/.venv/lib/python3.12/site-packages (from typing-inspect<1,>=0.4.0->dataclasses-json<0.7,>=0.5.7->langchain) (1.0.0)\r\n",
      "Requirement already satisfied: openai in /Users/claudioed/development/ai/advanced-retrieval/.venv/lib/python3.12/site-packages (1.23.6)\r\n",
      "Requirement already satisfied: anyio<5,>=3.5.0 in /Users/claudioed/development/ai/advanced-retrieval/.venv/lib/python3.12/site-packages (from openai) (4.3.0)\r\n",
      "Requirement already satisfied: distro<2,>=1.7.0 in /Users/claudioed/development/ai/advanced-retrieval/.venv/lib/python3.12/site-packages (from openai) (1.9.0)\r\n",
      "Requirement already satisfied: httpx<1,>=0.23.0 in /Users/claudioed/development/ai/advanced-retrieval/.venv/lib/python3.12/site-packages (from openai) (0.27.0)\r\n",
      "Requirement already satisfied: pydantic<3,>=1.9.0 in /Users/claudioed/development/ai/advanced-retrieval/.venv/lib/python3.12/site-packages (from openai) (2.7.1)\r\n",
      "Requirement already satisfied: sniffio in /Users/claudioed/development/ai/advanced-retrieval/.venv/lib/python3.12/site-packages (from openai) (1.3.1)\r\n",
      "Requirement already satisfied: tqdm>4 in /Users/claudioed/development/ai/advanced-retrieval/.venv/lib/python3.12/site-packages (from openai) (4.66.2)\r\n",
      "Requirement already satisfied: typing-extensions<5,>=4.7 in /Users/claudioed/development/ai/advanced-retrieval/.venv/lib/python3.12/site-packages (from openai) (4.11.0)\r\n",
      "Requirement already satisfied: idna>=2.8 in /Users/claudioed/development/ai/advanced-retrieval/.venv/lib/python3.12/site-packages (from anyio<5,>=3.5.0->openai) (3.7)\r\n",
      "Requirement already satisfied: certifi in /Users/claudioed/development/ai/advanced-retrieval/.venv/lib/python3.12/site-packages (from httpx<1,>=0.23.0->openai) (2024.2.2)\r\n",
      "Requirement already satisfied: httpcore==1.* in /Users/claudioed/development/ai/advanced-retrieval/.venv/lib/python3.12/site-packages (from httpx<1,>=0.23.0->openai) (1.0.5)\r\n",
      "Requirement already satisfied: h11<0.15,>=0.13 in /Users/claudioed/development/ai/advanced-retrieval/.venv/lib/python3.12/site-packages (from httpcore==1.*->httpx<1,>=0.23.0->openai) (0.14.0)\r\n",
      "Requirement already satisfied: annotated-types>=0.4.0 in /Users/claudioed/development/ai/advanced-retrieval/.venv/lib/python3.12/site-packages (from pydantic<3,>=1.9.0->openai) (0.6.0)\r\n",
      "Requirement already satisfied: pydantic-core==2.18.2 in /Users/claudioed/development/ai/advanced-retrieval/.venv/lib/python3.12/site-packages (from pydantic<3,>=1.9.0->openai) (2.18.2)\r\n",
      "Requirement already satisfied: langchain_experimental in /Users/claudioed/development/ai/advanced-retrieval/.venv/lib/python3.12/site-packages (0.0.57)\r\n",
      "Requirement already satisfied: langchain<0.2.0,>=0.1.15 in /Users/claudioed/development/ai/advanced-retrieval/.venv/lib/python3.12/site-packages (from langchain_experimental) (0.1.16)\r\n",
      "Requirement already satisfied: langchain-core<0.2.0,>=0.1.41 in /Users/claudioed/development/ai/advanced-retrieval/.venv/lib/python3.12/site-packages (from langchain_experimental) (0.1.46)\r\n",
      "Requirement already satisfied: PyYAML>=5.3 in /Users/claudioed/development/ai/advanced-retrieval/.venv/lib/python3.12/site-packages (from langchain<0.2.0,>=0.1.15->langchain_experimental) (6.0.1)\r\n",
      "Requirement already satisfied: SQLAlchemy<3,>=1.4 in /Users/claudioed/development/ai/advanced-retrieval/.venv/lib/python3.12/site-packages (from langchain<0.2.0,>=0.1.15->langchain_experimental) (2.0.29)\r\n",
      "Requirement already satisfied: aiohttp<4.0.0,>=3.8.3 in /Users/claudioed/development/ai/advanced-retrieval/.venv/lib/python3.12/site-packages (from langchain<0.2.0,>=0.1.15->langchain_experimental) (3.9.5)\r\n",
      "Requirement already satisfied: dataclasses-json<0.7,>=0.5.7 in /Users/claudioed/development/ai/advanced-retrieval/.venv/lib/python3.12/site-packages (from langchain<0.2.0,>=0.1.15->langchain_experimental) (0.6.4)\r\n",
      "Requirement already satisfied: jsonpatch<2.0,>=1.33 in /Users/claudioed/development/ai/advanced-retrieval/.venv/lib/python3.12/site-packages (from langchain<0.2.0,>=0.1.15->langchain_experimental) (1.33)\r\n",
      "Requirement already satisfied: langchain-community<0.1,>=0.0.32 in /Users/claudioed/development/ai/advanced-retrieval/.venv/lib/python3.12/site-packages (from langchain<0.2.0,>=0.1.15->langchain_experimental) (0.0.34)\r\n",
      "Requirement already satisfied: langchain-text-splitters<0.1,>=0.0.1 in /Users/claudioed/development/ai/advanced-retrieval/.venv/lib/python3.12/site-packages (from langchain<0.2.0,>=0.1.15->langchain_experimental) (0.0.1)\r\n",
      "Requirement already satisfied: langsmith<0.2.0,>=0.1.17 in /Users/claudioed/development/ai/advanced-retrieval/.venv/lib/python3.12/site-packages (from langchain<0.2.0,>=0.1.15->langchain_experimental) (0.1.51)\r\n",
      "Requirement already satisfied: numpy<2,>=1 in /Users/claudioed/development/ai/advanced-retrieval/.venv/lib/python3.12/site-packages (from langchain<0.2.0,>=0.1.15->langchain_experimental) (1.26.4)\r\n",
      "Requirement already satisfied: pydantic<3,>=1 in /Users/claudioed/development/ai/advanced-retrieval/.venv/lib/python3.12/site-packages (from langchain<0.2.0,>=0.1.15->langchain_experimental) (2.7.1)\r\n",
      "Requirement already satisfied: requests<3,>=2 in /Users/claudioed/development/ai/advanced-retrieval/.venv/lib/python3.12/site-packages (from langchain<0.2.0,>=0.1.15->langchain_experimental) (2.31.0)\r\n",
      "Requirement already satisfied: tenacity<9.0.0,>=8.1.0 in /Users/claudioed/development/ai/advanced-retrieval/.venv/lib/python3.12/site-packages (from langchain<0.2.0,>=0.1.15->langchain_experimental) (8.2.3)\r\n",
      "Requirement already satisfied: packaging<24.0,>=23.2 in /Users/claudioed/development/ai/advanced-retrieval/.venv/lib/python3.12/site-packages (from langchain-core<0.2.0,>=0.1.41->langchain_experimental) (23.2)\r\n",
      "Requirement already satisfied: aiosignal>=1.1.2 in /Users/claudioed/development/ai/advanced-retrieval/.venv/lib/python3.12/site-packages (from aiohttp<4.0.0,>=3.8.3->langchain<0.2.0,>=0.1.15->langchain_experimental) (1.3.1)\r\n",
      "Requirement already satisfied: attrs>=17.3.0 in /Users/claudioed/development/ai/advanced-retrieval/.venv/lib/python3.12/site-packages (from aiohttp<4.0.0,>=3.8.3->langchain<0.2.0,>=0.1.15->langchain_experimental) (23.2.0)\r\n",
      "Requirement already satisfied: frozenlist>=1.1.1 in /Users/claudioed/development/ai/advanced-retrieval/.venv/lib/python3.12/site-packages (from aiohttp<4.0.0,>=3.8.3->langchain<0.2.0,>=0.1.15->langchain_experimental) (1.4.1)\r\n",
      "Requirement already satisfied: multidict<7.0,>=4.5 in /Users/claudioed/development/ai/advanced-retrieval/.venv/lib/python3.12/site-packages (from aiohttp<4.0.0,>=3.8.3->langchain<0.2.0,>=0.1.15->langchain_experimental) (6.0.5)\r\n",
      "Requirement already satisfied: yarl<2.0,>=1.0 in /Users/claudioed/development/ai/advanced-retrieval/.venv/lib/python3.12/site-packages (from aiohttp<4.0.0,>=3.8.3->langchain<0.2.0,>=0.1.15->langchain_experimental) (1.9.4)\r\n",
      "Requirement already satisfied: marshmallow<4.0.0,>=3.18.0 in /Users/claudioed/development/ai/advanced-retrieval/.venv/lib/python3.12/site-packages (from dataclasses-json<0.7,>=0.5.7->langchain<0.2.0,>=0.1.15->langchain_experimental) (3.21.1)\r\n",
      "Requirement already satisfied: typing-inspect<1,>=0.4.0 in /Users/claudioed/development/ai/advanced-retrieval/.venv/lib/python3.12/site-packages (from dataclasses-json<0.7,>=0.5.7->langchain<0.2.0,>=0.1.15->langchain_experimental) (0.9.0)\r\n",
      "Requirement already satisfied: jsonpointer>=1.9 in /Users/claudioed/development/ai/advanced-retrieval/.venv/lib/python3.12/site-packages (from jsonpatch<2.0,>=1.33->langchain<0.2.0,>=0.1.15->langchain_experimental) (2.4)\r\n",
      "Requirement already satisfied: orjson<4.0.0,>=3.9.14 in /Users/claudioed/development/ai/advanced-retrieval/.venv/lib/python3.12/site-packages (from langsmith<0.2.0,>=0.1.17->langchain<0.2.0,>=0.1.15->langchain_experimental) (3.10.1)\r\n",
      "Requirement already satisfied: annotated-types>=0.4.0 in /Users/claudioed/development/ai/advanced-retrieval/.venv/lib/python3.12/site-packages (from pydantic<3,>=1->langchain<0.2.0,>=0.1.15->langchain_experimental) (0.6.0)\r\n",
      "Requirement already satisfied: pydantic-core==2.18.2 in /Users/claudioed/development/ai/advanced-retrieval/.venv/lib/python3.12/site-packages (from pydantic<3,>=1->langchain<0.2.0,>=0.1.15->langchain_experimental) (2.18.2)\r\n",
      "Requirement already satisfied: typing-extensions>=4.6.1 in /Users/claudioed/development/ai/advanced-retrieval/.venv/lib/python3.12/site-packages (from pydantic<3,>=1->langchain<0.2.0,>=0.1.15->langchain_experimental) (4.11.0)\r\n",
      "Requirement already satisfied: charset-normalizer<4,>=2 in /Users/claudioed/development/ai/advanced-retrieval/.venv/lib/python3.12/site-packages (from requests<3,>=2->langchain<0.2.0,>=0.1.15->langchain_experimental) (3.3.2)\r\n",
      "Requirement already satisfied: idna<4,>=2.5 in /Users/claudioed/development/ai/advanced-retrieval/.venv/lib/python3.12/site-packages (from requests<3,>=2->langchain<0.2.0,>=0.1.15->langchain_experimental) (3.7)\r\n",
      "Requirement already satisfied: urllib3<3,>=1.21.1 in /Users/claudioed/development/ai/advanced-retrieval/.venv/lib/python3.12/site-packages (from requests<3,>=2->langchain<0.2.0,>=0.1.15->langchain_experimental) (2.2.1)\r\n",
      "Requirement already satisfied: certifi>=2017.4.17 in /Users/claudioed/development/ai/advanced-retrieval/.venv/lib/python3.12/site-packages (from requests<3,>=2->langchain<0.2.0,>=0.1.15->langchain_experimental) (2024.2.2)\r\n",
      "Requirement already satisfied: mypy-extensions>=0.3.0 in /Users/claudioed/development/ai/advanced-retrieval/.venv/lib/python3.12/site-packages (from typing-inspect<1,>=0.4.0->dataclasses-json<0.7,>=0.5.7->langchain<0.2.0,>=0.1.15->langchain_experimental) (1.0.0)\r\n",
      "Requirement already satisfied: tiktoken in /Users/claudioed/development/ai/advanced-retrieval/.venv/lib/python3.12/site-packages (0.6.0)\r\n",
      "Requirement already satisfied: regex>=2022.1.18 in /Users/claudioed/development/ai/advanced-retrieval/.venv/lib/python3.12/site-packages (from tiktoken) (2024.4.16)\r\n",
      "Requirement already satisfied: requests>=2.26.0 in /Users/claudioed/development/ai/advanced-retrieval/.venv/lib/python3.12/site-packages (from tiktoken) (2.31.0)\r\n",
      "Requirement already satisfied: charset-normalizer<4,>=2 in /Users/claudioed/development/ai/advanced-retrieval/.venv/lib/python3.12/site-packages (from requests>=2.26.0->tiktoken) (3.3.2)\r\n",
      "Requirement already satisfied: idna<4,>=2.5 in /Users/claudioed/development/ai/advanced-retrieval/.venv/lib/python3.12/site-packages (from requests>=2.26.0->tiktoken) (3.7)\r\n",
      "Requirement already satisfied: urllib3<3,>=1.21.1 in /Users/claudioed/development/ai/advanced-retrieval/.venv/lib/python3.12/site-packages (from requests>=2.26.0->tiktoken) (2.2.1)\r\n",
      "Requirement already satisfied: certifi>=2017.4.17 in /Users/claudioed/development/ai/advanced-retrieval/.venv/lib/python3.12/site-packages (from requests>=2.26.0->tiktoken) (2024.2.2)\r\n",
      "Requirement already satisfied: faiss-cpu in /Users/claudioed/development/ai/advanced-retrieval/.venv/lib/python3.12/site-packages (1.8.0)\r\n",
      "Requirement already satisfied: numpy in /Users/claudioed/development/ai/advanced-retrieval/.venv/lib/python3.12/site-packages (from faiss-cpu) (1.26.4)\r\n"
     ]
    }
   ],
   "execution_count": 1
  },
  {
   "metadata": {
    "ExecuteTime": {
     "end_time": "2024-05-18T13:56:53.871892Z",
     "start_time": "2024-05-18T13:56:53.765201Z"
    }
   },
   "cell_type": "code",
   "source": [
    "from langchain_experimental.generative_agents import (\n",
    "    GenerativeAgent,\n",
    "    GenerativeAgentMemory\n",
    ")\n",
    "from langchain.chat_models import ChatOpenAI\n",
    "from langchain.embeddings import OpenAIEmbeddings\n",
    "from langchain.docstore import InMemoryDocstore\n",
    "from langchain.retrievers import TimeWeightedVectorStoreRetriever\n",
    "from termcolor import colored\n",
    "from langchain.vectorstores import FAISS\n",
    "\n",
    "LLM = ChatOpenAI(max_tokens=1500)\n",
    "\n",
    "def relevance_score_fn(score: float):\n",
    "    \"\"\"Returns a similarity score on a scale [0,1]\"\"\"\n",
    "    return 1.0 - score / math.sqrt(2)\n",
    "\n",
    "def create_new_memory_retriever():\n",
    "    embeddings_model = OpenAIEmbeddings()\n",
    "    embeddings_size = 1536\n",
    "    index = faiss.IndexFlatL2(embeddings_size)\n",
    "    vector_store = FAISS(\n",
    "        embeddings_model.embed_query,\n",
    "        index,\n",
    "        InMemoryDocstore({}),\n",
    "        {},\n",
    "        relevance_score_fn = relevance_score_fn\n",
    "    )\n",
    "    return TimeWeightedVectorStoreRetriever(vectorstore= vector_store, other_score_keys = ['importance'],k=15)\n",
    "\n",
    "\n",
    "agent_memory = GenerativeAgentMemory(\n",
    "    llm = LLM,\n",
    "    memory_retriever = create_new_memory_retriever(),\n",
    "    verbose =False,\n",
    "    reflection_threshold = 8\n",
    ")\n",
    "\n",
    "me = GenerativeAgent(\n",
    "    name = \"me\",\n",
    "    age=38,\n",
    "    traits = \"curious, kind, creative\",\n",
    "    status = \"helpful\",\n",
    "    memory_retriever = create_new_memory_retriever(),\n",
    "    llm= LLM,\n",
    "    memory = agent_memory\n",
    ")\n",
    "\n",
    "\n"
   ],
   "id": "321717c465834d60",
   "outputs": [
    {
     "name": "stderr",
     "output_type": "stream",
     "text": [
      "`embedding_function` is expected to be an Embeddings object, support for passing in a function will soon be removed.\n",
      "`embedding_function` is expected to be an Embeddings object, support for passing in a function will soon be removed.\n"
     ]
    }
   ],
   "execution_count": 21
  },
  {
   "metadata": {
    "ExecuteTime": {
     "end_time": "2024-05-18T13:57:01.215065Z",
     "start_time": "2024-05-18T13:56:56.493188Z"
    }
   },
   "cell_type": "code",
   "source": [
    "me_observations = [\n",
    "    \"I am a curious person\",\n",
    "    \"I am a kind person\",\n",
    "    \"I am a creative person\",\n",
    "    \"I am a helpful person\"\n",
    "]\n",
    "\n",
    "for observation in me_observations:\n",
    "    me.memory.add_memory(observation)\n",
    "\n",
    "print(me.get_summary(force_refresh=True))"
   ],
   "id": "9592747973cddbec",
   "outputs": [
    {
     "name": "stdout",
     "output_type": "stream",
     "text": [
      "Name: me (age: 38)\n",
      "Innate traits: curious, kind, creative\n",
      "Creative, helpful, curious, kind.\n"
     ]
    }
   ],
   "execution_count": 22
  },
  {
   "metadata": {
    "ExecuteTime": {
     "end_time": "2024-05-18T13:57:02.571930Z",
     "start_time": "2024-05-18T13:57:02.568857Z"
    }
   },
   "cell_type": "code",
   "source": [
    "USER_NAME = \"Me\"\n",
    "def interview_agent(agent: GenerativeAgent,message: str):\n",
    "    new_message = f\"{USER_NAME} says {message}\"\n",
    "    return agent.generate_dialogue_response(new_message)[1]\n",
    "    "
   ],
   "id": "d27728a85334db17",
   "outputs": [],
   "execution_count": 23
  },
  {
   "metadata": {
    "ExecuteTime": {
     "end_time": "2024-05-18T13:57:14.096381Z",
     "start_time": "2024-05-18T13:57:08.749097Z"
    }
   },
   "cell_type": "code",
   "source": "interview_agent(me,\"What do you like to do?\")",
   "id": "bf20e1d43fa0ec7c",
   "outputs": [
    {
     "data": {
      "text/plain": [
       "'me said \"I enjoy painting, reading, and going on hikes. How about you?\"'"
      ]
     },
     "execution_count": 24,
     "metadata": {},
     "output_type": "execute_result"
    }
   ],
   "execution_count": 24
  },
  {
   "metadata": {
    "ExecuteTime": {
     "end_time": "2024-05-18T13:57:27.305730Z",
     "start_time": "2024-05-18T13:57:25.053605Z"
    }
   },
   "cell_type": "code",
   "source": [
    "me_daily_observations = [\n",
    "    \"I starts my day with a cup of coffee\",\n",
    "    \"I starts my day studying in the morning\",\n",
    "    \"During the working hours, I am focused on my work\",\n",
    "]\n",
    "\n",
    "for observation in me_daily_observations:\n",
    "    me.memory.add_memory(observation)\n",
    "    "
   ],
   "id": "72718bdf3d1eb0cd",
   "outputs": [],
   "execution_count": 26
  },
  {
   "metadata": {
    "ExecuteTime": {
     "end_time": "2024-05-18T13:57:50.552697Z",
     "start_time": "2024-05-18T13:57:29.717892Z"
    }
   },
   "cell_type": "code",
   "source": [
    "for i,observation in enumerate(me_daily_observations):\n",
    "    _, reaction = me.generate_reaction(observation)\n",
    "    print(colored(observation,\"green\"),reaction)\n",
    "    if ((i+1) % len(me_daily_observations)) == 0:\n",
    "        print(\"*\" * 40)\n",
    "        print(\n",
    "            colored(\n",
    "                f\"After these observations, Me summary is: \\n{me.get_summary(force_refresh=True)}\",\"blue\"\n",
    "            )\n",
    "        )\n",
    "        print(\"*\" * 40)"
   ],
   "id": "7e8b8878bd655ea5",
   "outputs": [
    {
     "name": "stdout",
     "output_type": "stream",
     "text": [
      "\u001B[32mI starts my day with a cup of coffee\u001B[0m me said \"I also enjoy starting my day with a cup of coffee, it helps me feel more awake and focused.\"\n",
      "\u001B[32mI starts my day studying in the morning\u001B[0m me It's great to see I starting the day off with studying, dedication to learning is admirable.\n",
      "\u001B[32mDuring the working hours, I am focused on my work\u001B[0m me It's great to see I staying focused on their work during the working hours.\n",
      "****************************************\n",
      "\u001B[34mAfter these observations, Me summary is: \n",
      "Name: me (age: 38)\n",
      "Innate traits: curious, kind, creative\n",
      "The core characteristics of me based on the provided statements are that I am a creative, helpful, curious, kind, and focused individual who enjoys painting, reading, going on hikes, starting the day with a cup of coffee, and studying in the morning.\u001B[0m\n",
      "****************************************\n"
     ]
    }
   ],
   "execution_count": 27
  },
  {
   "metadata": {},
   "cell_type": "code",
   "outputs": [],
   "execution_count": null,
   "source": "",
   "id": "1050b67d3e5de988"
  }
 ],
 "metadata": {
  "kernelspec": {
   "display_name": "Python 3",
   "language": "python",
   "name": "python3"
  },
  "language_info": {
   "codemirror_mode": {
    "name": "ipython",
    "version": 2
   },
   "file_extension": ".py",
   "mimetype": "text/x-python",
   "name": "python",
   "nbconvert_exporter": "python",
   "pygments_lexer": "ipython2",
   "version": "2.7.6"
  }
 },
 "nbformat": 4,
 "nbformat_minor": 5
}
