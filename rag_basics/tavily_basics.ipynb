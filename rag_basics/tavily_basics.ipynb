{
 "cells": [
  {
   "cell_type": "code",
   "id": "initial_id",
   "metadata": {
    "collapsed": true,
    "ExecuteTime": {
     "end_time": "2024-05-26T14:28:24.619107Z",
     "start_time": "2024-05-26T14:28:22.465183Z"
    }
   },
   "source": [
    "!pip install langchain-community\n",
    "!pip install tavily-python"
   ],
   "outputs": [
    {
     "name": "stdout",
     "output_type": "stream",
     "text": [
      "Requirement already satisfied: langchain-community in /Users/claudioed/development/ai/advanced-retrieval/.venv/lib/python3.12/site-packages (0.0.34)\r\n",
      "Requirement already satisfied: PyYAML>=5.3 in /Users/claudioed/development/ai/advanced-retrieval/.venv/lib/python3.12/site-packages (from langchain-community) (6.0.1)\r\n",
      "Requirement already satisfied: SQLAlchemy<3,>=1.4 in /Users/claudioed/development/ai/advanced-retrieval/.venv/lib/python3.12/site-packages (from langchain-community) (2.0.29)\r\n",
      "Requirement already satisfied: aiohttp<4.0.0,>=3.8.3 in /Users/claudioed/development/ai/advanced-retrieval/.venv/lib/python3.12/site-packages (from langchain-community) (3.9.5)\r\n",
      "Requirement already satisfied: dataclasses-json<0.7,>=0.5.7 in /Users/claudioed/development/ai/advanced-retrieval/.venv/lib/python3.12/site-packages (from langchain-community) (0.6.4)\r\n",
      "Requirement already satisfied: langchain-core<0.2.0,>=0.1.45 in /Users/claudioed/development/ai/advanced-retrieval/.venv/lib/python3.12/site-packages (from langchain-community) (0.1.46)\r\n",
      "Requirement already satisfied: langsmith<0.2.0,>=0.1.0 in /Users/claudioed/development/ai/advanced-retrieval/.venv/lib/python3.12/site-packages (from langchain-community) (0.1.51)\r\n",
      "Requirement already satisfied: numpy<2,>=1 in /Users/claudioed/development/ai/advanced-retrieval/.venv/lib/python3.12/site-packages (from langchain-community) (1.26.4)\r\n",
      "Requirement already satisfied: requests<3,>=2 in /Users/claudioed/development/ai/advanced-retrieval/.venv/lib/python3.12/site-packages (from langchain-community) (2.31.0)\r\n",
      "Requirement already satisfied: tenacity<9.0.0,>=8.1.0 in /Users/claudioed/development/ai/advanced-retrieval/.venv/lib/python3.12/site-packages (from langchain-community) (8.2.3)\r\n",
      "Requirement already satisfied: aiosignal>=1.1.2 in /Users/claudioed/development/ai/advanced-retrieval/.venv/lib/python3.12/site-packages (from aiohttp<4.0.0,>=3.8.3->langchain-community) (1.3.1)\r\n",
      "Requirement already satisfied: attrs>=17.3.0 in /Users/claudioed/development/ai/advanced-retrieval/.venv/lib/python3.12/site-packages (from aiohttp<4.0.0,>=3.8.3->langchain-community) (23.2.0)\r\n",
      "Requirement already satisfied: frozenlist>=1.1.1 in /Users/claudioed/development/ai/advanced-retrieval/.venv/lib/python3.12/site-packages (from aiohttp<4.0.0,>=3.8.3->langchain-community) (1.4.1)\r\n",
      "Requirement already satisfied: multidict<7.0,>=4.5 in /Users/claudioed/development/ai/advanced-retrieval/.venv/lib/python3.12/site-packages (from aiohttp<4.0.0,>=3.8.3->langchain-community) (6.0.5)\r\n",
      "Requirement already satisfied: yarl<2.0,>=1.0 in /Users/claudioed/development/ai/advanced-retrieval/.venv/lib/python3.12/site-packages (from aiohttp<4.0.0,>=3.8.3->langchain-community) (1.9.4)\r\n",
      "Requirement already satisfied: marshmallow<4.0.0,>=3.18.0 in /Users/claudioed/development/ai/advanced-retrieval/.venv/lib/python3.12/site-packages (from dataclasses-json<0.7,>=0.5.7->langchain-community) (3.21.1)\r\n",
      "Requirement already satisfied: typing-inspect<1,>=0.4.0 in /Users/claudioed/development/ai/advanced-retrieval/.venv/lib/python3.12/site-packages (from dataclasses-json<0.7,>=0.5.7->langchain-community) (0.9.0)\r\n",
      "Requirement already satisfied: jsonpatch<2.0,>=1.33 in /Users/claudioed/development/ai/advanced-retrieval/.venv/lib/python3.12/site-packages (from langchain-core<0.2.0,>=0.1.45->langchain-community) (1.33)\r\n",
      "Requirement already satisfied: packaging<24.0,>=23.2 in /Users/claudioed/development/ai/advanced-retrieval/.venv/lib/python3.12/site-packages (from langchain-core<0.2.0,>=0.1.45->langchain-community) (23.2)\r\n",
      "Requirement already satisfied: pydantic<3,>=1 in /Users/claudioed/development/ai/advanced-retrieval/.venv/lib/python3.12/site-packages (from langchain-core<0.2.0,>=0.1.45->langchain-community) (2.7.1)\r\n",
      "Requirement already satisfied: orjson<4.0.0,>=3.9.14 in /Users/claudioed/development/ai/advanced-retrieval/.venv/lib/python3.12/site-packages (from langsmith<0.2.0,>=0.1.0->langchain-community) (3.10.1)\r\n",
      "Requirement already satisfied: charset-normalizer<4,>=2 in /Users/claudioed/development/ai/advanced-retrieval/.venv/lib/python3.12/site-packages (from requests<3,>=2->langchain-community) (3.3.2)\r\n",
      "Requirement already satisfied: idna<4,>=2.5 in /Users/claudioed/development/ai/advanced-retrieval/.venv/lib/python3.12/site-packages (from requests<3,>=2->langchain-community) (3.7)\r\n",
      "Requirement already satisfied: urllib3<3,>=1.21.1 in /Users/claudioed/development/ai/advanced-retrieval/.venv/lib/python3.12/site-packages (from requests<3,>=2->langchain-community) (2.2.1)\r\n",
      "Requirement already satisfied: certifi>=2017.4.17 in /Users/claudioed/development/ai/advanced-retrieval/.venv/lib/python3.12/site-packages (from requests<3,>=2->langchain-community) (2024.2.2)\r\n",
      "Requirement already satisfied: typing-extensions>=4.6.0 in /Users/claudioed/development/ai/advanced-retrieval/.venv/lib/python3.12/site-packages (from SQLAlchemy<3,>=1.4->langchain-community) (4.11.0)\r\n",
      "Requirement already satisfied: jsonpointer>=1.9 in /Users/claudioed/development/ai/advanced-retrieval/.venv/lib/python3.12/site-packages (from jsonpatch<2.0,>=1.33->langchain-core<0.2.0,>=0.1.45->langchain-community) (2.4)\r\n",
      "Requirement already satisfied: annotated-types>=0.4.0 in /Users/claudioed/development/ai/advanced-retrieval/.venv/lib/python3.12/site-packages (from pydantic<3,>=1->langchain-core<0.2.0,>=0.1.45->langchain-community) (0.6.0)\r\n",
      "Requirement already satisfied: pydantic-core==2.18.2 in /Users/claudioed/development/ai/advanced-retrieval/.venv/lib/python3.12/site-packages (from pydantic<3,>=1->langchain-core<0.2.0,>=0.1.45->langchain-community) (2.18.2)\r\n",
      "Requirement already satisfied: mypy-extensions>=0.3.0 in /Users/claudioed/development/ai/advanced-retrieval/.venv/lib/python3.12/site-packages (from typing-inspect<1,>=0.4.0->dataclasses-json<0.7,>=0.5.7->langchain-community) (1.0.0)\r\n",
      "Requirement already satisfied: tavily-python in /Users/claudioed/development/ai/advanced-retrieval/.venv/lib/python3.12/site-packages (0.3.3)\r\n",
      "Requirement already satisfied: requests in /Users/claudioed/development/ai/advanced-retrieval/.venv/lib/python3.12/site-packages (from tavily-python) (2.31.0)\r\n",
      "Requirement already satisfied: tiktoken<1,>=0.5.2 in /Users/claudioed/development/ai/advanced-retrieval/.venv/lib/python3.12/site-packages (from tavily-python) (0.6.0)\r\n",
      "Requirement already satisfied: regex>=2022.1.18 in /Users/claudioed/development/ai/advanced-retrieval/.venv/lib/python3.12/site-packages (from tiktoken<1,>=0.5.2->tavily-python) (2024.4.16)\r\n",
      "Requirement already satisfied: charset-normalizer<4,>=2 in /Users/claudioed/development/ai/advanced-retrieval/.venv/lib/python3.12/site-packages (from requests->tavily-python) (3.3.2)\r\n",
      "Requirement already satisfied: idna<4,>=2.5 in /Users/claudioed/development/ai/advanced-retrieval/.venv/lib/python3.12/site-packages (from requests->tavily-python) (3.7)\r\n",
      "Requirement already satisfied: urllib3<3,>=1.21.1 in /Users/claudioed/development/ai/advanced-retrieval/.venv/lib/python3.12/site-packages (from requests->tavily-python) (2.2.1)\r\n",
      "Requirement already satisfied: certifi>=2017.4.17 in /Users/claudioed/development/ai/advanced-retrieval/.venv/lib/python3.12/site-packages (from requests->tavily-python) (2024.2.2)\r\n"
     ]
    }
   ],
   "execution_count": 1
  },
  {
   "metadata": {
    "ExecuteTime": {
     "end_time": "2024-05-26T14:29:17.679230Z",
     "start_time": "2024-05-26T14:29:15.503043Z"
    }
   },
   "cell_type": "code",
   "source": [
    "from langchain_community.retrievers import TavilySearchAPIRetriever\n",
    "\n",
    "retriever = TavilySearchAPIRetriever(k=3)\n",
    "\n",
    "retriever.invoke(\"what is domain-driven design?\")"
   ],
   "id": "823bb8ca8f1c9cea",
   "outputs": [
    {
     "data": {
      "text/plain": [
       "[Document(page_content=\"While domain-driven design provides benefits such as maintainability, Microsoft recommends it only for complex domains where the model provides clear benefits in formulating a common understanding of the domain.[3]\\nThe term was coined by Eric Evans in his book of the same title published in 2003.[4]\\nOverview[edit]\\nDomain-driven design articulates a number of high-level concepts and practices.[4]\\nOf primary importance is a domain of the software, the subject area to which the user applies a program. Requiring the user interface to be a direct reflection of the domain model will force the design of a better domain model.[5]\\nDomain-driven design has influenced other approaches to software development.\\n Thanks to model-driven engineering's model transformation and code generation techniques, the domain model can be used to generate the actual software system that will manage it.[7]\\nCommand Query Responsibility Segregation[edit]\\nCommand Query Responsibility Segregation (CQRS) is an architectural pattern for separating reading data (a 'query') from writing to data (a 'command'). Domain-driven design is predicated on the following goals:\\nCritics of domain-driven design argue that developers must typically implement a great deal of isolation and encapsulation to maintain the model as a pure and helpful construct. Contents\\nDomain-driven design\\nDomain-driven design (DDD) is a major software design approach,[1] focusing on modeling software to match a domain according to input from that domain's experts.[2]\\n\", metadata={'title': 'Domain-driven design - Wikipedia', 'source': 'https://en.wikipedia.org/wiki/Domain-driven_design', 'score': 0.97837, 'images': None}),\n",
       " Document(page_content=\"This article discusses:\\nContents\\nThe Platonic Model\\nTalk the Talk\\nContext\\nKnow Your Value Proposition\\nA System of Single Responsibilities\\nEntities Have an Identity and a Life\\nValue Objects Describe Things\\nAggregate Roots Combine Entities\\nDomain Services Model Primary Operations\\nRepositories Save and Dispense Aggregate Roots\\nThe Thing with Databases\\nGetting Started with DDD\\nDomain-Driven Design(DDD) is a collection of principles and patterns that help developers craft elegant object systems. The fact of the matter is, the mismatch between the model that's in everyone's head and the model you're committing to code is the first thing an aspiring domain modeler should understand.\\n The path to the Form you want to describe with your code is scattered about in the minds of domain experts, the desires of stakeholders, and the requirements of industries in which we're working. My preferred technique for accomplishing this is to provide the dependency to the command method:\\nThe benefit of this approach is that you don't need an inversion of control (IOC) container to create an entity for you. In C# you can use the read-only keyword on public fields to enforce immutability and side-effect-free functions, as shown in Figure 2.\\nFigure 2 Using Read-Only to Enforce Immutability\\nAggregate Roots Combine Entities\\nAn aggregate root is a special kind of entity that consumers refer to directly.\", metadata={'title': 'Best Practice - An Introduction To Domain-Driven Design', 'source': 'https://learn.microsoft.com/en-us/archive/msdn-magazine/2009/february/best-practice-an-introduction-to-domain-driven-design', 'score': 0.91848, 'images': None}),\n",
       " Document(page_content='Data Structures and Algorithms\\nML & Data Science\\nWeb Development\\nLanguages\\nInterview Corner\\nCS Subjects\\nJobs\\nPractice\\nContests\\nDomain-Driven Design (DDD)\\nDomain-Driven Design (DDD) is an approach to software development that focuses on understanding and modeling the problem domain within which a software system operates. Domain-Driven Design is a concept introduced by a programmer Eric Evans in 2004 in his book Domain-Driven Design: Tackling Complexity in Heart of Software\\nImportance of Domain Knowledge\\nSuppose we have designed software using all the latest tech stack and infrastructure and our software design architecture is amazing, but when we release this software in the market, it is ultimately the end user who decides whether our system is great or not. Ubiquitous Language\\nBounded Contexts\\nEntities and Value Objects\\nAggregates\\nRepository\\nServices\\nDomain Events\\nExample Scenario\\nPlease Login to comment...\\n Remember,\\nStrategic Design in Domain-Driven Design(DDD)\\nStrategic Design in Domain-Driven Design (DDD) focuses on defining the overall architecture and structure of a software system in a way that aligns with the problem domain. Challenges of Domain-Driven Design (DDD)\\nUse-Cases of Domain-Driven Design (DDD)\\nReal-world Example of Domain-Driven Design (DDD)\\nProblem Statement\\nLets say, we are developing a ride-hailing application called “RideX.”', metadata={'title': 'Domain-Driven Design (DDD) - GeeksforGeeks', 'source': 'https://www.geeksforgeeks.org/domain-driven-design-ddd/', 'score': 0.90374, 'images': None})]"
      ]
     },
     "execution_count": 3,
     "metadata": {},
     "output_type": "execute_result"
    }
   ],
   "execution_count": 3
  },
  {
   "metadata": {
    "ExecuteTime": {
     "end_time": "2024-05-26T14:33:35.674165Z",
     "start_time": "2024-05-26T14:33:35.661052Z"
    }
   },
   "cell_type": "code",
   "source": [
    "from langchain_core.output_parsers import StrOutputParser\n",
    "from langchain_core.prompts import ChatPromptTemplate\n",
    "from langchain_core.runnables import RunnablePassthrough\n",
    "from langchain_openai import ChatOpenAI\n",
    "\n",
    "prompt = ChatPromptTemplate.from_template(\n",
    "    \"\"\"Answer the question based only on the context provided.\n",
    "\n",
    "    Context: {context}\n",
    "    \n",
    "    Question: {question}\"\"\"\n",
    ")\n",
    "chain = (\n",
    "    RunnablePassthrough.assign(context=(lambda x: x[\"question\"]) | retriever)\n",
    "    | prompt\n",
    "    | ChatOpenAI(model=\"gpt-4-1106-preview\")\n",
    "    | StrOutputParser()\n",
    ")\n",
    "\n",
    "chain.invoke(\"what is domain-driven design?\")"
   ],
   "id": "58a9c3cb970a3a7d",
   "outputs": [
    {
     "ename": "TypeError",
     "evalue": "RunnablePassthrough.assign() takes 1 positional argument but 2 were given",
     "output_type": "error",
     "traceback": [
      "\u001B[0;31m---------------------------------------------------------------------------\u001B[0m",
      "\u001B[0;31mTypeError\u001B[0m                                 Traceback (most recent call last)",
      "Cell \u001B[0;32mIn[6], line 14\u001B[0m\n\u001B[1;32m      4\u001B[0m \u001B[38;5;28;01mfrom\u001B[39;00m \u001B[38;5;21;01mlangchain_openai\u001B[39;00m \u001B[38;5;28;01mimport\u001B[39;00m ChatOpenAI\n\u001B[1;32m      6\u001B[0m prompt \u001B[38;5;241m=\u001B[39m ChatPromptTemplate\u001B[38;5;241m.\u001B[39mfrom_template(\n\u001B[1;32m      7\u001B[0m \u001B[38;5;250m    \u001B[39m\u001B[38;5;124;03m\"\"\"Answer the question based only on the context provided.\u001B[39;00m\n\u001B[1;32m      8\u001B[0m \n\u001B[0;32m   (...)\u001B[0m\n\u001B[1;32m     11\u001B[0m \u001B[38;5;124;03m    Question: {question}\"\"\"\u001B[39;00m\n\u001B[1;32m     12\u001B[0m )\n\u001B[1;32m     13\u001B[0m chain \u001B[38;5;241m=\u001B[39m (\n\u001B[0;32m---> 14\u001B[0m     \u001B[43mRunnablePassthrough\u001B[49m\u001B[38;5;241;43m.\u001B[39;49m\u001B[43massign\u001B[49m\u001B[43m(\u001B[49m\u001B[43m{\u001B[49m\u001B[38;5;124;43m\"\u001B[39;49m\u001B[38;5;124;43mcontext\u001B[39;49m\u001B[38;5;124;43m\"\u001B[39;49m\u001B[43m:\u001B[49m\u001B[43m \u001B[49m\u001B[43m(\u001B[49m\u001B[38;5;28;43;01mlambda\u001B[39;49;00m\u001B[43m \u001B[49m\u001B[43mx\u001B[49m\u001B[43m:\u001B[49m\u001B[43m \u001B[49m\u001B[43mx\u001B[49m\u001B[43m[\u001B[49m\u001B[38;5;124;43m\"\u001B[39;49m\u001B[38;5;124;43mquestion\u001B[39;49m\u001B[38;5;124;43m\"\u001B[39;49m\u001B[43m]\u001B[49m\u001B[43m)\u001B[49m\u001B[43m \u001B[49m\u001B[38;5;241;43m|\u001B[39;49m\u001B[43mretriever\u001B[49m\u001B[43m}\u001B[49m\u001B[43m)\u001B[49m\n\u001B[1;32m     15\u001B[0m     \u001B[38;5;241m|\u001B[39m prompt\n\u001B[1;32m     16\u001B[0m     \u001B[38;5;241m|\u001B[39m ChatOpenAI(model\u001B[38;5;241m=\u001B[39m\u001B[38;5;124m\"\u001B[39m\u001B[38;5;124mgpt-4-1106-preview\u001B[39m\u001B[38;5;124m\"\u001B[39m)\n\u001B[1;32m     17\u001B[0m     \u001B[38;5;241m|\u001B[39m StrOutputParser()\n\u001B[1;32m     18\u001B[0m )\n\u001B[1;32m     20\u001B[0m chain\u001B[38;5;241m.\u001B[39minvoke(\u001B[38;5;124m\"\u001B[39m\u001B[38;5;124mwhat is domain-driven design?\u001B[39m\u001B[38;5;124m\"\u001B[39m)\n",
      "\u001B[0;31mTypeError\u001B[0m: RunnablePassthrough.assign() takes 1 positional argument but 2 were given"
     ]
    }
   ],
   "execution_count": 6
  },
  {
   "metadata": {},
   "cell_type": "code",
   "outputs": [],
   "execution_count": null,
   "source": "",
   "id": "e0bd49122e844251"
  }
 ],
 "metadata": {
  "kernelspec": {
   "display_name": "Python 3",
   "language": "python",
   "name": "python3"
  },
  "language_info": {
   "codemirror_mode": {
    "name": "ipython",
    "version": 2
   },
   "file_extension": ".py",
   "mimetype": "text/x-python",
   "name": "python",
   "nbconvert_exporter": "python",
   "pygments_lexer": "ipython2",
   "version": "2.7.6"
  }
 },
 "nbformat": 4,
 "nbformat_minor": 5
}
